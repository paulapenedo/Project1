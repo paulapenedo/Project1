{
 "cells": [
  {
   "cell_type": "markdown",
   "metadata": {},
   "source": [
    "# Prueba previa"
   ]
  },
  {
   "cell_type": "code",
   "execution_count": 1,
   "metadata": {},
   "outputs": [],
   "source": [
    "import requests\n",
    "from bs4 import BeautifulSoup"
   ]
  },
  {
   "cell_type": "code",
   "execution_count": 2,
   "metadata": {},
   "outputs": [],
   "source": [
    "url = \"http://archive.ics.uci.edu/dataset/186/wine+quality\"\n",
    "r  = requests.get(url)\n",
    "data = r.text\n",
    "html_soup = BeautifulSoup(data)"
   ]
  },
  {
   "cell_type": "code",
   "execution_count": 7,
   "metadata": {},
   "outputs": [
    {
     "data": {
      "text/plain": [
       "[<a class=\"btn btn-primary w-full text-primary-content\" download=\"wine+quality.zip\" href=\"/static/public/186/wine+quality.zip\" target=\"_blank\"><svg class=\"h-6 w-6 md:max-lg:hidden\" height=\"1.2em\" viewbox=\"0 0 24 24\" width=\"1.2em\"><!-- HTML_TAG_START --><path d=\"m12 16l-5-5l1.4-1.45l2.6 2.6V4h2v8.15l2.6-2.6L17 11zm-6 4q-.825 0-1.412-.587T4 18v-3h2v3h12v-3h2v3q0 .825-.587 1.413T18 20z\" fill=\"currentColor\"></path><!-- HTML_TAG_END --></svg> <span data-svelte-h=\"svelte-q9mf3e\">Download</span> <span class=\"font-normal md:max-lg:hidden\">(89.2 KB)</span></a>]"
      ]
     },
     "execution_count": 7,
     "metadata": {},
     "output_type": "execute_result"
    }
   ],
   "source": [
    "html_soup.find_all(\"a\", class_=\"btn btn-primary w-full text-primary-content\")"
   ]
  },
  {
   "cell_type": "code",
   "execution_count": null,
   "metadata": {},
   "outputs": [],
   "source": []
  },
  {
   "cell_type": "markdown",
   "metadata": {},
   "source": [
    "# OPCION 1"
   ]
  },
  {
   "cell_type": "code",
   "execution_count": 4,
   "metadata": {},
   "outputs": [],
   "source": [
    "# Carga de Driver para Chrome\n",
    "from selenium import webdriver\n",
    "from selenium.webdriver.chrome.service import Service\n",
    "from selenium.webdriver.common.by import By"
   ]
  },
  {
   "cell_type": "code",
   "execution_count": 5,
   "metadata": {},
   "outputs": [],
   "source": [
    "service = Service(executable_path=\"chromedriver.exe\")\n",
    "#Si tienes el ejecutable en otra ubicación escribe su ruta completa: \"C:/Users/User/Downloads/chromedriver.exe\" . En Windows cambia los `\\` por `/`\n",
    "\n",
    "options = webdriver.ChromeOptions()\n",
    "driver = webdriver.Chrome(service=service, options=options)\n",
    "driver.get(\"http://archive.ics.uci.edu/dataset/186/wine+quality\")"
   ]
  },
  {
   "cell_type": "code",
   "execution_count": 6,
   "metadata": {},
   "outputs": [],
   "source": [
    "boton = driver.find_element(By.XPATH, \"/html/body/div/div[1]/div[1]/main/div/div[2]/div[1]/a\")"
   ]
  },
  {
   "cell_type": "code",
   "execution_count": 4,
   "metadata": {},
   "outputs": [
    {
     "data": {
      "text/plain": [
       "'https://archive.ics.uci.edu/static/public/186/wine+quality.zip'"
      ]
     },
     "execution_count": 4,
     "metadata": {},
     "output_type": "execute_result"
    }
   ],
   "source": [
    "boton.get_attribute('href')"
   ]
  },
  {
   "cell_type": "code",
   "execution_count": 7,
   "metadata": {},
   "outputs": [],
   "source": [
    "boton.click()"
   ]
  },
  {
   "cell_type": "code",
   "execution_count": 8,
   "metadata": {},
   "outputs": [],
   "source": [
    "driver.close()"
   ]
  },
  {
   "cell_type": "code",
   "execution_count": 8,
   "metadata": {},
   "outputs": [],
   "source": [
    "driver.quit()"
   ]
  },
  {
   "cell_type": "markdown",
   "metadata": {},
   "source": [
    "# OPCION 2"
   ]
  },
  {
   "cell_type": "code",
   "execution_count": 57,
   "metadata": {},
   "outputs": [],
   "source": [
    "from selenium.webdriver.common.action_chains import ActionChains\n",
    "from time import sleep"
   ]
  },
  {
   "cell_type": "code",
   "execution_count": 66,
   "metadata": {},
   "outputs": [],
   "source": [
    "options = webdriver.ChromeOptions()\n",
    "driver = webdriver.Chrome(service=service, options=options)\n",
    "driver.get(\"http://archive.ics.uci.edu/dataset/186/wine+quality\")"
   ]
  },
  {
   "cell_type": "code",
   "execution_count": 67,
   "metadata": {},
   "outputs": [],
   "source": [
    "boton = driver.find_element(By.XPATH, \"/html/body/div/div[1]/div[1]/main/div/div[2]/div[1]/a\")"
   ]
  },
  {
   "cell_type": "code",
   "execution_count": 68,
   "metadata": {},
   "outputs": [],
   "source": [
    "action = ActionChains(driver)"
   ]
  },
  {
   "cell_type": "code",
   "execution_count": 69,
   "metadata": {},
   "outputs": [],
   "source": [
    "action.move_to_element(boton).click().perform()\n",
    "# con esto lo descarga a Descargas"
   ]
  },
  {
   "cell_type": "code",
   "execution_count": null,
   "metadata": {},
   "outputs": [],
   "source": []
  },
  {
   "cell_type": "code",
   "execution_count": 64,
   "metadata": {},
   "outputs": [],
   "source": [
    "driver.get(\"chrome://downloads\")"
   ]
  },
  {
   "cell_type": "code",
   "execution_count": 70,
   "metadata": {},
   "outputs": [],
   "source": [
    "driver.close()"
   ]
  },
  {
   "cell_type": "code",
   "execution_count": null,
   "metadata": {},
   "outputs": [],
   "source": []
  },
  {
   "cell_type": "markdown",
   "metadata": {},
   "source": [
    "# siguiente"
   ]
  },
  {
   "cell_type": "markdown",
   "metadata": {},
   "source": [
    "Siguiente paso: \n",
    "quitarlo del zip y moverlo a la carpeta del proyecto\n",
    "\n",
    "Hacer dos funciones\n",
    "\n",
    "    1. para descargar zip\n",
    "\n",
    "    2. exportar zip y guardarlo"
   ]
  },
  {
   "cell_type": "code",
   "execution_count": 7,
   "metadata": {},
   "outputs": [],
   "source": [
    "import os\n",
    "import glob\n",
    "from zipfile import ZipFile\n",
    "from pathlib import Path"
   ]
  },
  {
   "cell_type": "code",
   "execution_count": 76,
   "metadata": {},
   "outputs": [],
   "source": [
    "path = os.getcwd()"
   ]
  },
  {
   "cell_type": "code",
   "execution_count": 22,
   "metadata": {},
   "outputs": [],
   "source": [
    "\n",
    "# path = os.getcwd() # current directory\n",
    "#path = Path.home() / \"Descargas\" / \"\"\n",
    "path = \"C:/Users/paula/Downloads\""
   ]
  },
  {
   "cell_type": "code",
   "execution_count": 29,
   "metadata": {},
   "outputs": [],
   "source": [
    "#files = glob.glob('*.zip')\n",
    "ruta_fichero = \"C:/Users/paula/Downloads/wine+quality.zip\""
   ]
  },
  {
   "cell_type": "code",
   "execution_count": 26,
   "metadata": {},
   "outputs": [],
   "source": [
    "import shutil"
   ]
  },
  {
   "cell_type": "code",
   "execution_count": 30,
   "metadata": {},
   "outputs": [],
   "source": [
    "ruta_final = \"C:/Users/paula/Documents/MASTER/proyectos/PC1-paula\""
   ]
  },
  {
   "cell_type": "code",
   "execution_count": 31,
   "metadata": {},
   "outputs": [],
   "source": [
    "if os.path.exists(ruta_fichero):\n",
    "    shutil.move(ruta_fichero, ruta_final)"
   ]
  },
  {
   "cell_type": "code",
   "execution_count": 32,
   "metadata": {},
   "outputs": [],
   "source": [
    "path = os.getcwd()\n",
    "files = glob.glob('*.zip')"
   ]
  },
  {
   "cell_type": "code",
   "execution_count": 41,
   "metadata": {},
   "outputs": [
    {
     "data": {
      "text/plain": [
       "['wine+quality.zip']"
      ]
     },
     "execution_count": 41,
     "metadata": {},
     "output_type": "execute_result"
    }
   ],
   "source": [
    "files"
   ]
  },
  {
   "cell_type": "code",
   "execution_count": 44,
   "metadata": {},
   "outputs": [],
   "source": [
    "os.mkdir('data')"
   ]
  },
  {
   "cell_type": "code",
   "execution_count": 45,
   "metadata": {},
   "outputs": [],
   "source": [
    "index = 0\n",
    "for i in range(0, len(files)):\n",
    "    with ZipFile(files[index], mode='r') as zip:\n",
    "        data = zip.extractall(path=\"./data\")        \n",
    "    index += 1"
   ]
  },
  {
   "cell_type": "code",
   "execution_count": null,
   "metadata": {},
   "outputs": [],
   "source": []
  },
  {
   "cell_type": "markdown",
   "metadata": {},
   "source": [
    "# FUNCIONES"
   ]
  },
  {
   "cell_type": "code",
   "execution_count": 1,
   "metadata": {},
   "outputs": [],
   "source": [
    "from selenium import webdriver\n",
    "from selenium.webdriver.chrome.service import Service\n",
    "from selenium.webdriver.common.by import By\n",
    "import os\n",
    "import time"
   ]
  },
  {
   "cell_type": "markdown",
   "metadata": {},
   "source": [
    "Funcion que descarga el zip en Dowloads"
   ]
  },
  {
   "cell_type": "code",
   "execution_count": 5,
   "metadata": {},
   "outputs": [],
   "source": [
    "def descargar_zip():\n",
    "    \"\"\"Funcion que descarga el zip\n",
    "    haciendo WebScrapping del boton de 'Download'\n",
    "    \"\"\"\n",
    "\n",
    "    # Llamamos al driver de la web\n",
    "    service = Service(executable_path=\"chromedriver.exe\")\n",
    "    #Si tienes el ejecutable en otra ubicación escribe su ruta completa: \"C:/Users/User/Downloads/chromedriver.exe\" . En Windows cambia los `\\` por `/`\n",
    "\n",
    "    options = webdriver.ChromeOptions()\n",
    "    driver = webdriver.Chrome(service=service, options=options)\n",
    "\n",
    "    \n",
    "    driver.get(\"http://archive.ics.uci.edu/dataset/186/wine+quality\")\n",
    "\n",
    "\n",
    "    boton = driver.find_element(By.XPATH, \"/html/body/div/div[1]/div[1]/main/div/div[2]/div[1]/a\")\n",
    "    # /html/body/div/div[1]/div[1]/main/div/div[2]/div[1]/a/span[1]\n",
    "\n",
    "    # Clicamos el boton\n",
    "    boton.click()\n",
    "\n",
    "    #ruta_fichero = \"C:/Users/paula/Downloads/wine+quality.zip\"\n",
    "\n",
    "    # NO SE ME CIERRA\n",
    "    if os.path.exists(\"C:/Users/paula/Downloads/wine+quality.zip\"):\n",
    "        print(\"Good\")\n",
    "        # Cerramos el driver\n",
    "        #driver.quit()\n",
    "        driver.close()\n",
    "\n",
    "        return \"Descarga completada\"\n",
    "\n",
    "    else:\n",
    "        return \"Error\"\n",
    "    \n",
    "    # except:\n",
    "    #     print(\"Error! Compruebas las variables\")"
   ]
  },
  {
   "cell_type": "code",
   "execution_count": 12,
   "metadata": {},
   "outputs": [],
   "source": [
    "def descargar_zip():\n",
    "    \"\"\"Funcion que descarga el zip\n",
    "    haciendo WebScrapping del boton de 'Download'\n",
    "    \"\"\"\n",
    "\n",
    "    # Llamamos al driver de la web\n",
    "    service = Service(executable_path=\"chromedriver.exe\")\n",
    "    #Si tienes el ejecutable en otra ubicación escribe su ruta completa: \"C:/Users/User/Downloads/chromedriver.exe\" . En Windows cambia los `\\` por `/`\n",
    "\n",
    "    options = webdriver.ChromeOptions()\n",
    "    driver = webdriver.Chrome(service=service, options=options)\n",
    "\n",
    "    try:\n",
    "        driver.get(\"http://archive.ics.uci.edu/dataset/186/wine+quality\")\n",
    "\n",
    "        time.sleep(2)\n",
    "\n",
    "        boton = driver.find_element(By.XPATH, \"/html/body/div/div[1]/div[1]/main/div/div[2]/div[1]/a\")\n",
    "\n",
    "        # Clicamos el boton\n",
    "        boton.click()\n",
    "\n",
    "        time.sleep(5)\n",
    "\n",
    "    #ruta_fichero = \"C:/Users/paula/Downloads/wine+quality.zip\"\n",
    "\n",
    "        while not os.path.exists(\"C:/Users/paula/Downloads/wine+quality.zip\"):\n",
    "            print(\"Esperando a que termine la descarga\")\n",
    "            time.sleep(1)\n",
    "            # Cerramos el driver\n",
    "            #driver.quit()\n",
    "        print(\"Archivo descargado\")\n",
    "\n",
    "    finally:\n",
    "        time.sleep(2)\n",
    "        driver.close()\n",
    "\n",
    "    return \"Descarga completada\""
   ]
  },
  {
   "cell_type": "code",
   "execution_count": 13,
   "metadata": {},
   "outputs": [
    {
     "name": "stdout",
     "output_type": "stream",
     "text": [
      "Archivo descargado\n"
     ]
    },
    {
     "data": {
      "text/plain": [
       "'Descarga completada'"
      ]
     },
     "execution_count": 13,
     "metadata": {},
     "output_type": "execute_result"
    }
   ],
   "source": [
    "descargar_zip()"
   ]
  },
  {
   "cell_type": "markdown",
   "metadata": {},
   "source": [
    "Funcion que mueve el zip de carpeta"
   ]
  },
  {
   "cell_type": "code",
   "execution_count": 27,
   "metadata": {},
   "outputs": [],
   "source": [
    "import shutil"
   ]
  },
  {
   "cell_type": "code",
   "execution_count": 15,
   "metadata": {},
   "outputs": [],
   "source": [
    "def mover_zip():\n",
    "    ruta_inicial = \"C:/Users/paula/Downloads/wine+quality.zip\"\n",
    "    ruta_final = \"C:/Users/paula/Documents/MASTER/proyectos/PC1-paula\"\n",
    "\n",
    "    if os.path.exists(ruta_inicial):\n",
    "        shutil.move(ruta_inicial, ruta_final)\n",
    "\n",
    "    return \"Listo\""
   ]
  },
  {
   "cell_type": "code",
   "execution_count": 16,
   "metadata": {},
   "outputs": [
    {
     "data": {
      "text/plain": [
       "'Listo'"
      ]
     },
     "execution_count": 16,
     "metadata": {},
     "output_type": "execute_result"
    }
   ],
   "source": [
    "mover_zip()"
   ]
  },
  {
   "cell_type": "markdown",
   "metadata": {},
   "source": [
    "Funcion para descomprimir el archivo y guardarlo en la carpeta data"
   ]
  },
  {
   "cell_type": "code",
   "execution_count": 24,
   "metadata": {},
   "outputs": [],
   "source": [
    "import os\n",
    "import glob\n",
    "from zipfile import ZipFile\n",
    "from pathlib import Path"
   ]
  },
  {
   "cell_type": "code",
   "execution_count": 25,
   "metadata": {},
   "outputs": [],
   "source": [
    "def descomprimir_zip():\n",
    "    # Comprobamos que existe la carpeta data y si no la creamos\n",
    "    if not os.path.exists(\"./data\"):\n",
    "        os.mkdir(\"./data\")\n",
    "\n",
    "    # Comprobamos que el la carpeta actual del proyecto hay un zip\n",
    "    path = os.getcwd()\n",
    "    files = glob.glob('*.zip')\n",
    "\n",
    "    index = 0\n",
    "    for i in range(0, len(files)):\n",
    "        with ZipFile(files[index], mode='r') as zip:\n",
    "            data = zip.extractall(path=\"./data\")        \n",
    "        index += 1\n",
    "\n",
    "    return \"Completado\""
   ]
  },
  {
   "cell_type": "code",
   "execution_count": 26,
   "metadata": {},
   "outputs": [
    {
     "data": {
      "text/plain": [
       "'Completado'"
      ]
     },
     "execution_count": 26,
     "metadata": {},
     "output_type": "execute_result"
    }
   ],
   "source": [
    "descomprimir_zip()"
   ]
  },
  {
   "cell_type": "code",
   "execution_count": null,
   "metadata": {},
   "outputs": [],
   "source": []
  }
 ],
 "metadata": {
  "kernelspec": {
   "display_name": "PC1",
   "language": "python",
   "name": "python3"
  },
  "language_info": {
   "codemirror_mode": {
    "name": "ipython",
    "version": 3
   },
   "file_extension": ".py",
   "mimetype": "text/x-python",
   "name": "python",
   "nbconvert_exporter": "python",
   "pygments_lexer": "ipython3",
   "version": "3.12.4"
  }
 },
 "nbformat": 4,
 "nbformat_minor": 2
}
